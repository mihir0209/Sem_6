{
 "cells": [
  {
   "cell_type": "code",
   "execution_count": null,
   "id": "56c771a9",
   "metadata": {},
   "outputs": [],
   "source": [
    "import cv2\n",
    "import matplotlib.pyplot as plt\n",
    "import numpy as np\n",
    "\n",
    "# Load the video\n",
    "video_path = '/content/videoplayback.mp4'\n",
    "cap = cv2.VideoCapture(video_path)\n",
    "\n",
    "# Check if video opened successfully\n",
    "if not cap.isOpened():\n",
    "    print(\"Error opening video file\")\n",
    "\n",
    "# Create a folder to store extracted frames\n",
    "import os\n",
    "os.makedirs(\"frames\", exist_ok=True)\n",
    "\n",
    "frame_count = 0\n",
    "while cap.isOpened():\n",
    "    ret, frame = cap.read()\n",
    "    if not ret:\n",
    "        break\n",
    "\n",
    "    # Save the frame as an image\n",
    "    frame_filename = f\"frames/frame_{frame_count:04d}.jpg\"\n",
    "    cv2.imwrite(frame_filename, frame)\n",
    "    frame_count += 1\n",
    "\n",
    "cap.release()\n",
    "cv2.destroyAllWindows()"
   ]
  },
  {
   "cell_type": "code",
   "execution_count": null,
   "id": "5717dbc7",
   "metadata": {},
   "outputs": [],
   "source": [
    "# Read an example frame for processing\n",
    "frame = cv2.imread(\"frames/frame_0020.jpg\")\n",
    "gray = cv2.cvtColor(frame, cv2.COLOR_BGR2GRAY)\n",
    "\n",
    "# Display the original grayscale frame\n",
    "plt.imshow(gray, cmap='gray')\n",
    "plt.title(\"Original Grayscale Frame\")\n",
    "plt.axis(\"off\")\n",
    "plt.show()"
   ]
  },
  {
   "cell_type": "code",
   "execution_count": null,
   "id": "e431ffe4",
   "metadata": {},
   "outputs": [],
   "source": [
    "# Negative transformation\n",
    "negative = 255 - gray\n",
    "\n",
    "plt.imshow(negative, cmap='gray')\n",
    "plt.title(\"Negative Transformation\")\n",
    "plt.axis(\"off\")\n",
    "plt.show()"
   ]
  },
  {
   "cell_type": "code",
   "execution_count": null,
   "id": "4741fcba",
   "metadata": {},
   "outputs": [],
   "source": [
    "# Log transformation\n",
    "c = 255 / np.log(1 + np.max(gray))\n",
    "log_transformed = c * np.log(1 + gray.astype(np.float32))\n",
    "log_transformed = np.array(log_transformed, dtype=np.uint8)\n",
    "\n",
    "plt.imshow(log_transformed, cmap='gray')\n",
    "plt.title(\"Log Transformation\")\n",
    "plt.axis(\"off\")\n",
    "plt.show()"
   ]
  },
  {
   "cell_type": "code",
   "execution_count": null,
   "id": "bd9092a3",
   "metadata": {},
   "outputs": [],
   "source": [
    "# Gamma transformation\n",
    "gamma = 2.0\n",
    "gamma_corrected = np.array(255 * (gray / 255) ** gamma, dtype=np.uint8)\n",
    "\n",
    "plt.imshow(gamma_corrected, cmap='gray')\n",
    "plt.title(\"Gamma Transformation\")\n",
    "plt.axis(\"off\")\n",
    "plt.show()"
   ]
  },
  {
   "cell_type": "code",
   "execution_count": null,
   "id": "857447b5",
   "metadata": {},
   "outputs": [],
   "source": [
    "# Thresholding\n",
    "_, thresh_binary = cv2.threshold(gray, 127, 255, cv2.THRESH_BINARY)\n",
    "\n",
    "plt.imshow(thresh_binary, cmap='gray')\n",
    "plt.title(\"Thresholding\")\n",
    "plt.axis(\"off\")\n",
    "plt.show()"
   ]
  },
  {
   "cell_type": "code",
   "execution_count": null,
   "id": "919f8339",
   "metadata": {},
   "outputs": [],
   "source": [
    "# Contrast stretching\n",
    "min_val = np.min(gray)\n",
    "max_val = np.max(gray)\n",
    "contrast_stretched = ((gray - min_val) / (max_val - min_val) * 255).astype(np.uint8)\n",
    "\n",
    "plt.imshow(contrast_stretched, cmap='gray')\n",
    "plt.title(\"Contrast Stretching\")\n",
    "plt.axis(\"off\")\n",
    "plt.show()"
   ]
  },
  {
   "cell_type": "code",
   "execution_count": null,
   "id": "f497a022",
   "metadata": {},
   "outputs": [],
   "source": [
    "# Display all transformations together\n",
    "titles = ['Original Gray', 'Negative', 'Log Transformed', 'Gamma Corrected',\n",
    "          'Thresholded', 'Contrast Stretched']\n",
    "images = [gray, negative, log_transformed, gamma_corrected,\n",
    "          thresh_binary, contrast_stretched]\n",
    "\n",
    "plt.figure(figsize=(15, 10))\n",
    "for i in range(6):\n",
    "    plt.subplot(2, 3, i + 1)\n",
    "    plt.imshow(images[i], cmap='gray')\n",
    "    plt.title(titles[i])\n",
    "    plt.axis('off')\n",
    "\n",
    "plt.tight_layout()\n",
    "plt.show()"
   ]
  }
 ],
 "metadata": {},
 "nbformat": 4,
 "nbformat_minor": 5
}