{
  "nbformat": 4,
  "nbformat_minor": 0,
  "metadata": {
    "colab": {
      "provenance": []
    },
    "kernelspec": {
      "name": "python3",
      "display_name": "Python 3"
    },
    "language_info": {
      "name": "python"
    }
  },
  "cells": [
    {
      "cell_type": "code",
      "execution_count": 20,
      "metadata": {
        "colab": {
          "base_uri": "https://localhost:8080/"
        },
        "id": "nakc7Djw_bbO",
        "outputId": "3b866174-4ef7-4a23-f88b-99bcc9d5e213"
      },
      "outputs": [
        {
          "output_type": "stream",
          "name": "stderr",
          "text": [
            "[nltk_data] Downloading package punkt to /root/nltk_data...\n",
            "[nltk_data]   Package punkt is already up-to-date!\n",
            "[nltk_data] Downloading package stopwords to /root/nltk_data...\n",
            "[nltk_data]   Package stopwords is already up-to-date!\n",
            "[nltk_data] Downloading package wordnet to /root/nltk_data...\n",
            "[nltk_data]   Package wordnet is already up-to-date!\n",
            "[nltk_data] Downloading package punkt_tab to /root/nltk_data...\n",
            "[nltk_data]   Package punkt_tab is already up-to-date!\n"
          ]
        }
      ],
      "source": [
        "import pandas as pd\n",
        "import re\n",
        "import nltk\n",
        "from nltk.tokenize import word_tokenize\n",
        "from nltk.corpus import stopwords\n",
        "from nltk.stem import PorterStemmer\n",
        "from nltk.stem import WordNetLemmatizer\n",
        "from collections import Counter\n",
        "nltk.download('punkt')\n",
        "nltk.download('stopwords')\n",
        "nltk.download('wordnet')\n",
        "nltk.download('punkt_tab')\n",
        "pd.set_option('display.max_colwidth', None)\n",
        "stop_words = set(stopwords.words('english'))"
      ]
    },
    {
      "cell_type": "code",
      "source": [
        "df = pd.read_csv('product_reviews.csv', encoding='latin-1')\n",
        "\n",
        "print(\"Original Dataset:\")\n",
        "print(df.to_string())\n",
        "print(\"\\n\")"
      ],
      "metadata": {
        "colab": {
          "base_uri": "https://localhost:8080/"
        },
        "id": "sL6MucOF_jcl",
        "outputId": "6d938e34-d8a0-413a-b605-9e2da50bd465"
      },
      "execution_count": 8,
      "outputs": [
        {
          "output_type": "stream",
          "name": "stdout",
          "text": [
            "Original Dataset:\n",
            "    Review_ID                                                                 Review_Text\n",
            "0           1                    \"The product is GREAT! Loved it, but its a bit pricey.\"\n",
            "1           2                        \"Worst product ever!! Wouldnt recommend to anyone.\"\n",
            "2           3                 \"Satisfactory quality, works as expected, no major issues.\"\n",
            "3           4                          \"Amazing product, I would buy it again and again!\"\n",
            "4           5                           \"The delivery was slow, but the product is good.\"\n",
            "5           6                \"Horrible experience, the product broke after just one use.\"\n",
            "6           7                       \"Great value for the price! Definitely worth buying.\"\n",
            "7           8                    \"The product didnt meet my expectations, returning it.\"\n",
            "8           9  \"Im satisfied with the purchase, but there are better options available.\"\n",
            "9          10       \"Superb product! Excellent build quality and great customer service.\"\n",
            "10         11      \"The product is just okay, nothing special, but it gets the job done.\"\n",
            "11         12                  \"Fast delivery and product as described. Would buy again!\"\n",
            "12         13                  \"Not worth the money. The product feels cheap and flimsy.\"\n",
            "13         14              \"The product exceeded my expectations. Fantastic performance!\"\n",
            "14         15              \"Terrible customer service, but the product itself is decent.\"\n",
            "15         16     \"Very happy with the product. Would definitely recommend it to others.\"\n",
            "16         17                \"Good product, but Ive had better ones for the same price.\"\n",
            "17         18        \"I received a defective item, had to return it. Very disappointing.\"\n",
            "18         19         \"The product is excellent, but shipping took longer than expected.\"\n",
            "19         20              \"Love the product! Works as advertised and worth every penny.\"\n",
            "\n",
            "\n"
          ]
        }
      ]
    },
    {
      "cell_type": "code",
      "source": [
        "lowercase_texts = []\n",
        "for text in df['Review_Text']:\n",
        "    lowercase_texts.append(text.lower())\n",
        "df['lowercase_text'] = lowercase_texts\n",
        "\n",
        "print(\"After Converting to Lowercase:\")\n",
        "print(df['lowercase_text'].to_string())\n",
        "print(\"\\n\")"
      ],
      "metadata": {
        "colab": {
          "base_uri": "https://localhost:8080/"
        },
        "id": "2aCHad-VApQV",
        "outputId": "4e00b876-fc13-4bde-89a6-16d43e70119b"
      },
      "execution_count": 14,
      "outputs": [
        {
          "output_type": "stream",
          "name": "stdout",
          "text": [
            "After Converting to Lowercase:\n",
            "0                       \"the product is great! loved it, but its a bit pricey.\"\n",
            "1                           \"worst product ever!! wouldnt recommend to anyone.\"\n",
            "2                    \"satisfactory quality, works as expected, no major issues.\"\n",
            "3                             \"amazing product, i would buy it again and again!\"\n",
            "4                              \"the delivery was slow, but the product is good.\"\n",
            "5                   \"horrible experience, the product broke after just one use.\"\n",
            "6                          \"great value for the price! definitely worth buying.\"\n",
            "7                       \"the product didnt meet my expectations, returning it.\"\n",
            "8     \"im satisfied with the purchase, but there are better options available.\"\n",
            "9          \"superb product! excellent build quality and great customer service.\"\n",
            "10        \"the product is just okay, nothing special, but it gets the job done.\"\n",
            "11                    \"fast delivery and product as described. would buy again!\"\n",
            "12                    \"not worth the money. the product feels cheap and flimsy.\"\n",
            "13                \"the product exceeded my expectations. fantastic performance!\"\n",
            "14                \"terrible customer service, but the product itself is decent.\"\n",
            "15       \"very happy with the product. would definitely recommend it to others.\"\n",
            "16                  \"good product, but ive had better ones for the same price.\"\n",
            "17          \"i received a defective item, had to return it. very disappointing.\"\n",
            "18           \"the product is excellent, but shipping took longer than expected.\"\n",
            "19                \"love the product! works as advertised and worth every penny.\"\n",
            "\n",
            "\n"
          ]
        }
      ]
    },
    {
      "cell_type": "code",
      "source": [
        "cleaned_texts = []\n",
        "for text in df['lowercase_text']:\n",
        "    text = re.sub(r'[^\\w\\s]', '', text)\n",
        "    text = re.sub(r'\\d+', '', text)\n",
        "    cleaned_texts.append(text)\n",
        "df['cleaned_text'] = cleaned_texts\n",
        "print(\"After Removing Punctuation, Numbers, and Special Characters:\")\n",
        "print(df['cleaned_text'])\n",
        "print(\"\\n\")"
      ],
      "metadata": {
        "colab": {
          "base_uri": "https://localhost:8080/"
        },
        "id": "0FE7j4hCArme",
        "outputId": "9d7daf0f-887c-4575-9d91-e02800c9578d"
      },
      "execution_count": 26,
      "outputs": [
        {
          "output_type": "stream",
          "name": "stdout",
          "text": [
            "After Removing Punctuation, Numbers, and Special Characters:\n",
            "0                        the product is great loved it but its a bit pricey\n",
            "1                            worst product ever wouldnt recommend to anyone\n",
            "2                    satisfactory quality works as expected no major issues\n",
            "3                            amazing product i would buy it again and again\n",
            "4                             the delivery was slow but the product is good\n",
            "5                  horrible experience the product broke after just one use\n",
            "6                         great value for the price definitely worth buying\n",
            "7                       the product didnt meet my expectations returning it\n",
            "8     im satisfied with the purchase but there are better options available\n",
            "9         superb product excellent build quality and great customer service\n",
            "10        the product is just okay nothing special but it gets the job done\n",
            "11                   fast delivery and product as described would buy again\n",
            "12                   not worth the money the product feels cheap and flimsy\n",
            "13               the product exceeded my expectations fantastic performance\n",
            "14               terrible customer service but the product itself is decent\n",
            "15      very happy with the product would definitely recommend it to others\n",
            "16                  good product but ive had better ones for the same price\n",
            "17          i received a defective item had to return it very disappointing\n",
            "18          the product is excellent but shipping took longer than expected\n",
            "19               love the product works as advertised and worth every penny\n",
            "Name: cleaned_text, dtype: object\n",
            "\n",
            "\n"
          ]
        }
      ]
    },
    {
      "cell_type": "code",
      "source": [
        "tokenized_texts = []\n",
        "for text in df['cleaned_text']:\n",
        "    tokens = word_tokenize(text)\n",
        "    tokenized_texts.append(tokens)\n",
        "df['tokens'] = tokenized_texts\n",
        "\n",
        "print(\"After Tokenization:\")\n",
        "print(df['tokens'])\n",
        "print(\"\\n\")"
      ],
      "metadata": {
        "colab": {
          "base_uri": "https://localhost:8080/"
        },
        "id": "4005WlpEAuCG",
        "outputId": "69a039cd-c080-4ff0-e6c0-e13c5d1119c9"
      },
      "execution_count": 27,
      "outputs": [
        {
          "output_type": "stream",
          "name": "stdout",
          "text": [
            "After Tokenization:\n",
            "0                        [the, product, is, great, loved, it, but, its, a, bit, pricey]\n",
            "1                                [worst, product, ever, wouldnt, recommend, to, anyone]\n",
            "2                       [satisfactory, quality, works, as, expected, no, major, issues]\n",
            "3                              [amazing, product, i, would, buy, it, again, and, again]\n",
            "4                               [the, delivery, was, slow, but, the, product, is, good]\n",
            "5                    [horrible, experience, the, product, broke, after, just, one, use]\n",
            "6                            [great, value, for, the, price, definitely, worth, buying]\n",
            "7                          [the, product, didnt, meet, my, expectations, returning, it]\n",
            "8     [im, satisfied, with, the, purchase, but, there, are, better, options, available]\n",
            "9           [superb, product, excellent, build, quality, and, great, customer, service]\n",
            "10      [the, product, is, just, okay, nothing, special, but, it, gets, the, job, done]\n",
            "11                     [fast, delivery, and, product, as, described, would, buy, again]\n",
            "12                    [not, worth, the, money, the, product, feels, cheap, and, flimsy]\n",
            "13                   [the, product, exceeded, my, expectations, fantastic, performance]\n",
            "14                 [terrible, customer, service, but, the, product, itself, is, decent]\n",
            "15      [very, happy, with, the, product, would, definitely, recommend, it, to, others]\n",
            "16                  [good, product, but, ive, had, better, ones, for, the, same, price]\n",
            "17          [i, received, a, defective, item, had, to, return, it, very, disappointing]\n",
            "18           [the, product, is, excellent, but, shipping, took, longer, than, expected]\n",
            "19                [love, the, product, works, as, advertised, and, worth, every, penny]\n",
            "Name: tokens, dtype: object\n",
            "\n",
            "\n"
          ]
        }
      ]
    },
    {
      "cell_type": "code",
      "source": [
        "no_stopwords_texts = []\n",
        "for tokens in df['tokens']:\n",
        "    filtered_tokens = []\n",
        "    for word in tokens:\n",
        "        if word not in stop_words:\n",
        "            filtered_tokens.append(word)\n",
        "    no_stopwords_texts.append(filtered_tokens)\n",
        "df['no_stopwords'] = no_stopwords_texts\n",
        "\n",
        "print(\"After Removing Stopwords:\")\n",
        "print(df['no_stopwords'])\n",
        "print(\"\\n\")"
      ],
      "metadata": {
        "colab": {
          "base_uri": "https://localhost:8080/"
        },
        "id": "6vj3pt-0A04C",
        "outputId": "6b84d2d0-95a8-4b31-89d4-4d770cbf9ef2"
      },
      "execution_count": 28,
      "outputs": [
        {
          "output_type": "stream",
          "name": "stdout",
          "text": [
            "After Removing Stopwords:\n",
            "0                                       [product, great, loved, bit, pricey]\n",
            "1                         [worst, product, ever, wouldnt, recommend, anyone]\n",
            "2                    [satisfactory, quality, works, expected, major, issues]\n",
            "3                                             [amazing, product, would, buy]\n",
            "4                                            [delivery, slow, product, good]\n",
            "5                           [horrible, experience, product, broke, one, use]\n",
            "6                           [great, value, price, definitely, worth, buying]\n",
            "7                            [product, didnt, meet, expectations, returning]\n",
            "8                      [im, satisfied, purchase, better, options, available]\n",
            "9     [superb, product, excellent, build, quality, great, customer, service]\n",
            "10                        [product, okay, nothing, special, gets, job, done]\n",
            "11                          [fast, delivery, product, described, would, buy]\n",
            "12                             [worth, money, product, feels, cheap, flimsy]\n",
            "13                 [product, exceeded, expectations, fantastic, performance]\n",
            "14                            [terrible, customer, service, product, decent]\n",
            "15                    [happy, product, would, definitely, recommend, others]\n",
            "16                                 [good, product, ive, better, ones, price]\n",
            "17                        [received, defective, item, return, disappointing]\n",
            "18                    [product, excellent, shipping, took, longer, expected]\n",
            "19                   [love, product, works, advertised, worth, every, penny]\n",
            "Name: no_stopwords, dtype: object\n",
            "\n",
            "\n"
          ]
        }
      ]
    },
    {
      "cell_type": "code",
      "source": [
        "stemmed_texts = []\n",
        "stemmer= PorterStemmer()\n",
        "for tokens in df['no_stopwords']:\n",
        "    stemmed_tokens = []\n",
        "    for word in tokens:\n",
        "        stemmed_tokens.append(stemmer.stem(word))\n",
        "    stemmed_texts.append(stemmed_tokens)\n",
        "df['stemmed_tokens'] = stemmed_texts\n",
        "\n",
        "print(\"After Stemming:\")\n",
        "print(df['stemmed_tokens'])\n",
        "print(\"\\n\")"
      ],
      "metadata": {
        "colab": {
          "base_uri": "https://localhost:8080/"
        },
        "id": "mCFoQ3BqA3Um",
        "outputId": "7e608ce5-e8fb-4af1-8afd-d25fa527356e"
      },
      "execution_count": 29,
      "outputs": [
        {
          "output_type": "stream",
          "name": "stdout",
          "text": [
            "After Stemming:\n",
            "0                                 [product, great, love, bit, pricey]\n",
            "1                   [worst, product, ever, wouldnt, recommend, anyon]\n",
            "2                  [satisfactori, qualiti, work, expect, major, issu]\n",
            "3                                         [amaz, product, would, buy]\n",
            "4                                     [deliveri, slow, product, good]\n",
            "5                         [horribl, experi, product, broke, one, use]\n",
            "6                           [great, valu, price, definit, worth, buy]\n",
            "7                              [product, didnt, meet, expect, return]\n",
            "8                       [im, satisfi, purchas, better, option, avail]\n",
            "9     [superb, product, excel, build, qualiti, great, custom, servic]\n",
            "10                     [product, okay, noth, special, get, job, done]\n",
            "11                     [fast, deliveri, product, describ, would, buy]\n",
            "12                       [worth, money, product, feel, cheap, flimsi]\n",
            "13                        [product, exceed, expect, fantast, perform]\n",
            "14                         [terribl, custom, servic, product, decent]\n",
            "15                 [happi, product, would, definit, recommend, other]\n",
            "16                           [good, product, ive, better, one, price]\n",
            "17                         [receiv, defect, item, return, disappoint]\n",
            "18                       [product, excel, ship, took, longer, expect]\n",
            "19               [love, product, work, advertis, worth, everi, penni]\n",
            "Name: stemmed_tokens, dtype: object\n",
            "\n",
            "\n"
          ]
        }
      ]
    },
    {
      "cell_type": "code",
      "source": [
        "lemmatized_texts = []\n",
        "lemmatizer = WordNetLemmatizer()\n",
        "for tokens in df['no_stopwords']:\n",
        "    lemmatized_tokens = []\n",
        "    for word in tokens:\n",
        "        lemmatized_tokens.append(lemmatizer.lemmatize(word))\n",
        "    lemmatized_texts.append(lemmatized_tokens)\n",
        "df['lemmatized_tokens'] = lemmatized_texts\n",
        "\n",
        "print(\"After Lemmatization:\")\n",
        "print(df['lemmatized_tokens'])\n",
        "print(\"\\n\")"
      ],
      "metadata": {
        "colab": {
          "base_uri": "https://localhost:8080/"
        },
        "id": "66m-zZMMA5v-",
        "outputId": "b8d79ceb-b591-4413-aa4d-d586f5a5610e"
      },
      "execution_count": 30,
      "outputs": [
        {
          "output_type": "stream",
          "name": "stdout",
          "text": [
            "After Lemmatization:\n",
            "0                                       [product, great, loved, bit, pricey]\n",
            "1                         [worst, product, ever, wouldnt, recommend, anyone]\n",
            "2                      [satisfactory, quality, work, expected, major, issue]\n",
            "3                                             [amazing, product, would, buy]\n",
            "4                                            [delivery, slow, product, good]\n",
            "5                           [horrible, experience, product, broke, one, use]\n",
            "6                           [great, value, price, definitely, worth, buying]\n",
            "7                             [product, didnt, meet, expectation, returning]\n",
            "8                       [im, satisfied, purchase, better, option, available]\n",
            "9     [superb, product, excellent, build, quality, great, customer, service]\n",
            "10                         [product, okay, nothing, special, get, job, done]\n",
            "11                          [fast, delivery, product, described, would, buy]\n",
            "12                              [worth, money, product, feel, cheap, flimsy]\n",
            "13                  [product, exceeded, expectation, fantastic, performance]\n",
            "14                            [terrible, customer, service, product, decent]\n",
            "15                    [happy, product, would, definitely, recommend, others]\n",
            "16                                  [good, product, ive, better, one, price]\n",
            "17                        [received, defective, item, return, disappointing]\n",
            "18                    [product, excellent, shipping, took, longer, expected]\n",
            "19                    [love, product, work, advertised, worth, every, penny]\n",
            "Name: lemmatized_tokens, dtype: object\n",
            "\n",
            "\n"
          ]
        }
      ]
    },
    {
      "cell_type": "code",
      "source": [
        "term_frequencies = []\n",
        "for tokens in df['no_stopwords']:\n",
        "    term_frequency = dict(Counter(tokens))\n",
        "    term_frequencies.append(term_frequency)\n",
        "df['term_frequency'] = term_frequencies\n",
        "\n",
        "print(\"Term Frequency:\")\n",
        "print(df['term_frequency'])\n",
        "print(\"\\n\")\n",
        "\n",
        "df.to_csv('processed_product_reviews.csv', index=False)\n",
        "print(\"Processed data saved to 'processed_product_reviews.csv'\")"
      ],
      "metadata": {
        "colab": {
          "base_uri": "https://localhost:8080/"
        },
        "id": "qAoy0_i0A8vG",
        "outputId": "e328d4ef-7a24-4b79-d0a6-1034c93e60b5"
      },
      "execution_count": 31,
      "outputs": [
        {
          "output_type": "stream",
          "name": "stdout",
          "text": [
            "Term Frequency:\n",
            "0                                                      {'product': 1, 'great': 1, 'loved': 1, 'bit': 1, 'pricey': 1}\n",
            "1                                   {'worst': 1, 'product': 1, 'ever': 1, 'wouldnt': 1, 'recommend': 1, 'anyone': 1}\n",
            "2                              {'satisfactory': 1, 'quality': 1, 'works': 1, 'expected': 1, 'major': 1, 'issues': 1}\n",
            "3                                                                 {'amazing': 1, 'product': 1, 'would': 1, 'buy': 1}\n",
            "4                                                                {'delivery': 1, 'slow': 1, 'product': 1, 'good': 1}\n",
            "5                                     {'horrible': 1, 'experience': 1, 'product': 1, 'broke': 1, 'one': 1, 'use': 1}\n",
            "6                                     {'great': 1, 'value': 1, 'price': 1, 'definitely': 1, 'worth': 1, 'buying': 1}\n",
            "7                                           {'product': 1, 'didnt': 1, 'meet': 1, 'expectations': 1, 'returning': 1}\n",
            "8                                {'im': 1, 'satisfied': 1, 'purchase': 1, 'better': 1, 'options': 1, 'available': 1}\n",
            "9     {'superb': 1, 'product': 1, 'excellent': 1, 'build': 1, 'quality': 1, 'great': 1, 'customer': 1, 'service': 1}\n",
            "10                             {'product': 1, 'okay': 1, 'nothing': 1, 'special': 1, 'gets': 1, 'job': 1, 'done': 1}\n",
            "11                                    {'fast': 1, 'delivery': 1, 'product': 1, 'described': 1, 'would': 1, 'buy': 1}\n",
            "12                                       {'worth': 1, 'money': 1, 'product': 1, 'feels': 1, 'cheap': 1, 'flimsy': 1}\n",
            "13                                {'product': 1, 'exceeded': 1, 'expectations': 1, 'fantastic': 1, 'performance': 1}\n",
            "14                                           {'terrible': 1, 'customer': 1, 'service': 1, 'product': 1, 'decent': 1}\n",
            "15                              {'happy': 1, 'product': 1, 'would': 1, 'definitely': 1, 'recommend': 1, 'others': 1}\n",
            "16                                           {'good': 1, 'product': 1, 'ive': 1, 'better': 1, 'ones': 1, 'price': 1}\n",
            "17                                       {'received': 1, 'defective': 1, 'item': 1, 'return': 1, 'disappointing': 1}\n",
            "18                              {'product': 1, 'excellent': 1, 'shipping': 1, 'took': 1, 'longer': 1, 'expected': 1}\n",
            "19                        {'love': 1, 'product': 1, 'works': 1, 'advertised': 1, 'worth': 1, 'every': 1, 'penny': 1}\n",
            "Name: term_frequency, dtype: object\n",
            "\n",
            "\n",
            "Processed data saved to 'processed_product_reviews.csv'\n"
          ]
        }
      ]
    }
  ]
}